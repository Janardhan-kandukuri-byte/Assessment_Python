{
  "nbformat": 4,
  "nbformat_minor": 0,
  "metadata": {
    "colab": {
      "provenance": []
    },
    "kernelspec": {
      "name": "python3",
      "display_name": "Python 3"
    },
    "language_info": {
      "name": "python"
    }
  },
  "cells": [
    {
      "cell_type": "code",
      "execution_count": 4,
      "metadata": {
        "colab": {
          "base_uri": "https://localhost:8080/"
        },
        "id": "ItrpZWn385zQ",
        "outputId": "c17541ae-50aa-4ad4-f921-16001bc7f050"
      },
      "outputs": [
        {
          "output_type": "stream",
          "name": "stdout",
          "text": [
            "Requirement already satisfied: openpyxl in /usr/local/lib/python3.11/dist-packages (3.1.5)\n",
            "Requirement already satisfied: et-xmlfile in /usr/local/lib/python3.11/dist-packages (from openpyxl) (2.0.0)\n"
          ]
        }
      ],
      "source": [
        "!pip install openpyxl"
      ]
    },
    {
      "cell_type": "code",
      "source": [
        "import pandas as pd\n",
        "from google.colab import drive\n",
        "drive.mount('/content/drive')"
      ],
      "metadata": {
        "colab": {
          "base_uri": "https://localhost:8080/"
        },
        "id": "5hVOEE-N9KPD",
        "outputId": "bceda359-d825-4498-caec-6a76ea5fe8b4"
      },
      "execution_count": 7,
      "outputs": [
        {
          "output_type": "stream",
          "name": "stdout",
          "text": [
            "Drive already mounted at /content/drive; to attempt to forcibly remount, call drive.mount(\"/content/drive\", force_remount=True).\n"
          ]
        }
      ]
    },
    {
      "cell_type": "code",
      "source": [
        "import glob\n",
        "\n",
        "def read_and_merge_excels(folder_path):\n",
        "    # Get all Excel file paths in the folder\n",
        "    excel_files = glob.glob(f\"{folder_path}/*.xlsx\")  # Adjust for .xls if needed\n",
        "\n",
        "    # List to store DataFrames\n",
        "    dataframes = []\n",
        "\n",
        "    # Read each Excel file\n",
        "    for file in excel_files:\n",
        "        df = pd.read_excel(file, engine=\"openpyxl\")  # Use engine=\"xlrd\" for .xls files\n",
        "        dataframes.append(df)\n",
        "\n",
        "    # Concatenate all DataFrames\n",
        "    merged_df = pd.concat(dataframes, ignore_index=True)\n",
        "\n",
        "    return merged_df\n",
        "\n",
        "# Example usage\n",
        "folder_path = \"/content/drive/My Drive/AssessmentData\"  # Update with your folder path\n",
        "final_df = read_and_merge_excels(folder_path)\n",
        "\n",
        "# Display first few rows\n",
        "print(final_df.head())"
      ],
      "metadata": {
        "colab": {
          "base_uri": "https://localhost:8080/"
        },
        "id": "YwY3gvlP_JAo",
        "outputId": "233244c5-b559-4356-d8be-280984912815"
      },
      "execution_count": 8,
      "outputs": [
        {
          "output_type": "stream",
          "name": "stdout",
          "text": [
            "               OrderId     OrderItemId  QuantityOrdered  ItemPrice  \\\n",
            "0  171-0001135-1657958  11168926687715                1      949.0   \n",
            "1  171-0001497-9165123  19760298917699                1      699.0   \n",
            "2  171-0002127-1363507   5949764099083                1      399.0   \n",
            "3  171-0002370-0601169  57571868836379                1      499.0   \n",
            "4  171-0004526-2028348  33851287891403                1     1699.0   \n",
            "\n",
            "                            PromotionDiscount  batch_id  \n",
            "0    { \"CurrencyCode\": \"INR\", \"Amount\": \"10\"}       359  \n",
            "1  { \"CurrencyCode\": \"INR\", \"Amount\": \"10.1\"}      1135  \n",
            "2    { \"CurrencyCode\": \"INR\", \"Amount\": \"10\"}       297  \n",
            "3  { \"CurrencyCode\": \"INR\", \"Amount\": \"10.1\"}       114  \n",
            "4    { \"CurrencyCode\": \"INR\", \"Amount\": \"10\"}       764  \n"
          ]
        }
      ]
    },
    {
      "cell_type": "code",
      "source": [
        "from pyspark.sql import SparkSession\n",
        "\n",
        "spark = SparkSession.builder.appName(\"PandasToSpark\").getOrCreate()"
      ],
      "metadata": {
        "id": "7a2zTwG0A-ji"
      },
      "execution_count": 10,
      "outputs": []
    },
    {
      "cell_type": "code",
      "source": [
        "# 1. Combine the data from both regions into a single table.\n",
        "df = spark.createDataFrame(final_df)\n",
        "df.show(truncate=False)"
      ],
      "metadata": {
        "colab": {
          "base_uri": "https://localhost:8080/"
        },
        "id": "05PewAwbBR3a",
        "outputId": "0472e1fb-69b2-43f4-8e2f-4539d41fd59c"
      },
      "execution_count": 12,
      "outputs": [
        {
          "output_type": "stream",
          "name": "stdout",
          "text": [
            "+-------------------+--------------+---------------+---------+------------------------------------------+--------+\n",
            "|OrderId            |OrderItemId   |QuantityOrdered|ItemPrice|PromotionDiscount                         |batch_id|\n",
            "+-------------------+--------------+---------------+---------+------------------------------------------+--------+\n",
            "|171-0001135-1657958|11168926687715|1              |949.0    |{ \"CurrencyCode\": \"INR\", \"Amount\": \"10\"}  |359     |\n",
            "|171-0001497-9165123|19760298917699|1              |699.0    |{ \"CurrencyCode\": \"INR\", \"Amount\": \"10.1\"}|1135    |\n",
            "|171-0002127-1363507|5949764099083 |1              |399.0    |{ \"CurrencyCode\": \"INR\", \"Amount\": \"10\"}  |297     |\n",
            "|171-0002370-0601169|57571868836379|1              |499.0    |{ \"CurrencyCode\": \"INR\", \"Amount\": \"10.1\"}|114     |\n",
            "|171-0004526-2028348|33851287891403|1              |1699.0   |{ \"CurrencyCode\": \"INR\", \"Amount\": \"10\"}  |764     |\n",
            "|171-0004781-3853173|43686103544491|1              |399.0    |{ \"CurrencyCode\": \"INR\", \"Amount\": \"10.1\"}|809     |\n",
            "|171-0004947-4305927|15941372058555|1              |1399.0   |{ \"CurrencyCode\": \"INR\", \"Amount\": \"10\"}  |15      |\n",
            "|171-0004947-4305927|15941372058555|1              |1399.0   |{ \"CurrencyCode\": \"INR\", \"Amount\": \"10.1\"}|330     |\n",
            "|171-0005467-8036365|33952397753619|1              |349.0    |{ \"CurrencyCode\": \"INR\", \"Amount\": \"10\"}  |868     |\n",
            "|171-0006030-2254725|31456208605443|1              |499.0    |{ \"CurrencyCode\": \"INR\", \"Amount\": \"10.1\"}|1494    |\n",
            "|171-0006682-9937168|2915892310475 |1              |549.0    |{ \"CurrencyCode\": \"INR\", \"Amount\": \"10\"}  |255     |\n",
            "|171-0008037-3788355|22456900251507|1              |499.0    |{ \"CurrencyCode\": \"INR\", \"Amount\": \"10.1\"}|232     |\n",
            "|171-0008659-1412343|45841722968955|1              |2899.0   |{ \"CurrencyCode\": \"INR\", \"Amount\": \"10\"}  |184     |\n",
            "|171-0008662-0057942|66326653881907|1              |599.0    |{ \"CurrencyCode\": \"INR\", \"Amount\": \"10.1\"}|122     |\n",
            "|171-0010322-1769977|47459215833307|1              |399.0    |{ \"CurrencyCode\": \"INR\", \"Amount\": \"10\"}  |676     |\n",
            "|171-0010803-5365973|21135179938611|1              |299.0    |{ \"CurrencyCode\": \"INR\", \"Amount\": \"10.1\"}|669     |\n",
            "|171-0011025-3910737|18207721515083|1              |1499.0   |{ \"CurrencyCode\": \"INR\", \"Amount\": \"10\"}  |821     |\n",
            "|171-0015661-5525128|52322576555467|1              |1199.0   |{ \"CurrencyCode\": \"INR\", \"Amount\": \"10.1\"}|31      |\n",
            "|171-0015668-5065935|8918074736283 |1              |699.0    |{ \"CurrencyCode\": \"INR\", \"Amount\": \"10\"}  |709     |\n",
            "|171-0016430-9547521|3526651130627 |1              |499.0    |{ \"CurrencyCode\": \"INR\", \"Amount\": \"10.1\"}|325     |\n",
            "+-------------------+--------------+---------------+---------+------------------------------------------+--------+\n",
            "only showing top 20 rows\n",
            "\n"
          ]
        }
      ]
    },
    {
      "cell_type": "code",
      "source": [
        "# 2. Add a column total_sales which is calculated as QuantityOrdered * ItemPrice.\n",
        "\n",
        "from pyspark.sql.functions import col\n",
        "\n",
        "df = df.withColumn('total_sales',col(\"QuantityOrdered\")*col(\"ItemPrice\") )\n",
        "df.show(truncate=False)\n",
        "df.count()"
      ],
      "metadata": {
        "colab": {
          "base_uri": "https://localhost:8080/"
        },
        "id": "L1d2lYoRBaHl",
        "outputId": "6ae3e37d-e4b3-4979-ffcd-cad83964d2f4"
      },
      "execution_count": 22,
      "outputs": [
        {
          "output_type": "stream",
          "name": "stdout",
          "text": [
            "+-------------------+--------------+---------------+---------+------------------------------------------+--------+-----------+\n",
            "|OrderId            |OrderItemId   |QuantityOrdered|ItemPrice|PromotionDiscount                         |batch_id|total_sales|\n",
            "+-------------------+--------------+---------------+---------+------------------------------------------+--------+-----------+\n",
            "|171-0001135-1657958|11168926687715|1              |949.0    |{ \"CurrencyCode\": \"INR\", \"Amount\": \"10\"}  |359     |949.0      |\n",
            "|171-0001497-9165123|19760298917699|1              |699.0    |{ \"CurrencyCode\": \"INR\", \"Amount\": \"10.1\"}|1135    |699.0      |\n",
            "|171-0002127-1363507|5949764099083 |1              |399.0    |{ \"CurrencyCode\": \"INR\", \"Amount\": \"10\"}  |297     |399.0      |\n",
            "|171-0002370-0601169|57571868836379|1              |499.0    |{ \"CurrencyCode\": \"INR\", \"Amount\": \"10.1\"}|114     |499.0      |\n",
            "|171-0004526-2028348|33851287891403|1              |1699.0   |{ \"CurrencyCode\": \"INR\", \"Amount\": \"10\"}  |764     |1699.0     |\n",
            "|171-0004781-3853173|43686103544491|1              |399.0    |{ \"CurrencyCode\": \"INR\", \"Amount\": \"10.1\"}|809     |399.0      |\n",
            "|171-0004947-4305927|15941372058555|1              |1399.0   |{ \"CurrencyCode\": \"INR\", \"Amount\": \"10\"}  |15      |1399.0     |\n",
            "|171-0004947-4305927|15941372058555|1              |1399.0   |{ \"CurrencyCode\": \"INR\", \"Amount\": \"10.1\"}|330     |1399.0     |\n",
            "|171-0005467-8036365|33952397753619|1              |349.0    |{ \"CurrencyCode\": \"INR\", \"Amount\": \"10\"}  |868     |349.0      |\n",
            "|171-0006030-2254725|31456208605443|1              |499.0    |{ \"CurrencyCode\": \"INR\", \"Amount\": \"10.1\"}|1494    |499.0      |\n",
            "|171-0006682-9937168|2915892310475 |1              |549.0    |{ \"CurrencyCode\": \"INR\", \"Amount\": \"10\"}  |255     |549.0      |\n",
            "|171-0008037-3788355|22456900251507|1              |499.0    |{ \"CurrencyCode\": \"INR\", \"Amount\": \"10.1\"}|232     |499.0      |\n",
            "|171-0008659-1412343|45841722968955|1              |2899.0   |{ \"CurrencyCode\": \"INR\", \"Amount\": \"10\"}  |184     |2899.0     |\n",
            "|171-0008662-0057942|66326653881907|1              |599.0    |{ \"CurrencyCode\": \"INR\", \"Amount\": \"10.1\"}|122     |599.0      |\n",
            "|171-0010322-1769977|47459215833307|1              |399.0    |{ \"CurrencyCode\": \"INR\", \"Amount\": \"10\"}  |676     |399.0      |\n",
            "|171-0010803-5365973|21135179938611|1              |299.0    |{ \"CurrencyCode\": \"INR\", \"Amount\": \"10.1\"}|669     |299.0      |\n",
            "|171-0011025-3910737|18207721515083|1              |1499.0   |{ \"CurrencyCode\": \"INR\", \"Amount\": \"10\"}  |821     |1499.0     |\n",
            "|171-0015661-5525128|52322576555467|1              |1199.0   |{ \"CurrencyCode\": \"INR\", \"Amount\": \"10.1\"}|31      |1199.0     |\n",
            "|171-0015668-5065935|8918074736283 |1              |699.0    |{ \"CurrencyCode\": \"INR\", \"Amount\": \"10\"}  |709     |699.0      |\n",
            "|171-0016430-9547521|3526651130627 |1              |499.0    |{ \"CurrencyCode\": \"INR\", \"Amount\": \"10.1\"}|325     |499.0      |\n",
            "+-------------------+--------------+---------------+---------+------------------------------------------+--------+-----------+\n",
            "only showing top 20 rows\n",
            "\n"
          ]
        },
        {
          "output_type": "execute_result",
          "data": {
            "text/plain": [
              "88988"
            ]
          },
          "metadata": {},
          "execution_count": 22
        }
      ]
    },
    {
      "cell_type": "code",
      "source": [
        "# 3. Add a column region to identify the region of the sales record (A or B).\n"
      ],
      "metadata": {
        "id": "WgAY9KYmCTUF"
      },
      "execution_count": 23,
      "outputs": []
    },
    {
      "cell_type": "code",
      "source": [
        "# 4. Ensure that there are no duplicate entries based on OrderId.\n",
        "df = df.dropDuplicates(['OrderId'])\n",
        "df.show(truncate=False)\n",
        "df.count()"
      ],
      "metadata": {
        "colab": {
          "base_uri": "https://localhost:8080/"
        },
        "id": "-kztCsEhGFwF",
        "outputId": "a8c795cc-cb53-4e40-c041-01d0274cf0ff"
      },
      "execution_count": 26,
      "outputs": [
        {
          "output_type": "stream",
          "name": "stdout",
          "text": [
            "+-------------------+--------------+---------------+---------+------------------------------------------+--------+-----------+\n",
            "|OrderId            |OrderItemId   |QuantityOrdered|ItemPrice|PromotionDiscount                         |batch_id|total_sales|\n",
            "+-------------------+--------------+---------------+---------+------------------------------------------+--------+-----------+\n",
            "|171-0001135-1657958|11168926687715|1              |949.0    |{ \"CurrencyCode\": \"INR\", \"Amount\": \"10\"}  |359     |949.0      |\n",
            "|171-0002127-1363507|5949764099083 |1              |399.0    |{ \"CurrencyCode\": \"INR\", \"Amount\": \"10\"}  |297     |399.0      |\n",
            "|171-0004781-3853173|43686103544491|1              |399.0    |{ \"CurrencyCode\": \"INR\", \"Amount\": \"10.1\"}|809     |399.0      |\n",
            "|171-0004947-4305927|15941372058555|1              |1399.0   |{ \"CurrencyCode\": \"INR\", \"Amount\": \"10\"}  |15      |1399.0     |\n",
            "|171-0006030-2254725|31456208605443|1              |499.0    |{ \"CurrencyCode\": \"INR\", \"Amount\": \"10.1\"}|1494    |499.0      |\n",
            "|171-0006682-9937168|2915892310475 |1              |549.0    |{ \"CurrencyCode\": \"INR\", \"Amount\": \"10\"}  |255     |549.0      |\n",
            "|171-0008037-3788355|22456900251507|1              |499.0    |{ \"CurrencyCode\": \"INR\", \"Amount\": \"10.1\"}|232     |499.0      |\n",
            "|171-0008659-1412343|45841722968955|1              |2899.0   |{ \"CurrencyCode\": \"INR\", \"Amount\": \"10\"}  |184     |2899.0     |\n",
            "|171-0008662-0057942|66326653881907|1              |599.0    |{ \"CurrencyCode\": \"INR\", \"Amount\": \"10.1\"}|122     |599.0      |\n",
            "|171-0010803-5365973|21135179938611|1              |299.0    |{ \"CurrencyCode\": \"INR\", \"Amount\": \"10.1\"}|669     |299.0      |\n",
            "|171-0015668-5065935|8918074736283 |1              |699.0    |{ \"CurrencyCode\": \"INR\", \"Amount\": \"10\"}  |709     |699.0      |\n",
            "|171-0016430-9547521|3526651130627 |1              |499.0    |{ \"CurrencyCode\": \"INR\", \"Amount\": \"10.1\"}|325     |499.0      |\n",
            "|171-0017311-5318712|64258514309019|1              |699.0    |{ \"CurrencyCode\": \"INR\", \"Amount\": \"10\"}  |577     |699.0      |\n",
            "|171-0018345-8874731|59365948515931|1              |599.0    |{ \"CurrencyCode\": \"INR\", \"Amount\": \"10\"}  |150     |599.0      |\n",
            "|171-0020871-3057976|31639315030563|1              |1139.0   |{ \"CurrencyCode\": \"INR\", \"Amount\": \"10.1\"}|296     |1139.0     |\n",
            "|171-0021483-3525174|64370725651027|1              |1599.0   |{ \"CurrencyCode\": \"INR\", \"Amount\": \"10\"}  |911     |1599.0     |\n",
            "|171-0022424-6354758|25431618871923|1              |949.0    |{ \"CurrencyCode\": \"INR\", \"Amount\": \"10.1\"}|874     |949.0      |\n",
            "|171-0022807-7934716|5924271021683 |1              |999.0    |{ \"CurrencyCode\": \"INR\", \"Amount\": \"10.1\"}|1329    |999.0      |\n",
            "|171-0023912-2838777|12927344177755|1              |499.0    |{ \"CurrencyCode\": \"INR\", \"Amount\": \"10.1\"}|910     |499.0      |\n",
            "|171-0024838-4383551|28167659511651|1              |629.0    |{ \"CurrencyCode\": \"INR\", \"Amount\": \"10\"}  |560     |629.0      |\n",
            "+-------------------+--------------+---------------+---------+------------------------------------------+--------+-----------+\n",
            "only showing top 20 rows\n",
            "\n"
          ]
        },
        {
          "output_type": "execute_result",
          "data": {
            "text/plain": [
              "41107"
            ]
          },
          "metadata": {},
          "execution_count": 26
        }
      ]
    },
    {
      "cell_type": "code",
      "source": [
        "df.printSchema()"
      ],
      "metadata": {
        "colab": {
          "base_uri": "https://localhost:8080/"
        },
        "id": "b2U0Nf3UG-CF",
        "outputId": "6f4a7d99-2ae5-4b35-b4c2-68ec5f6472c1"
      },
      "execution_count": 27,
      "outputs": [
        {
          "output_type": "stream",
          "name": "stdout",
          "text": [
            "root\n",
            " |-- OrderId: string (nullable = true)\n",
            " |-- OrderItemId: long (nullable = true)\n",
            " |-- QuantityOrdered: long (nullable = true)\n",
            " |-- ItemPrice: double (nullable = true)\n",
            " |-- PromotionDiscount: string (nullable = true)\n",
            " |-- batch_id: long (nullable = true)\n",
            " |-- total_sales: double (nullable = true)\n",
            "\n"
          ]
        }
      ]
    },
    {
      "cell_type": "code",
      "source": [
        "# 5. Add a new column net_sale, calculated as total_sales - PromotionDiscount.\n",
        "\n",
        "from pyspark.sql.functions import get_json_object\n",
        "df = df.withColumn(\"PromotionDiscountValue\", get_json_object(col(\"PromotionDiscount\"), \"$.Amount\").cast(\"double\"))\n",
        "\n",
        "df = df.withColumn(\"net_sale\", col(\"total_sales\") - col(\"PromotionDiscountValue\"))\n",
        "df.show(truncate=False)\n",
        "df.count()"
      ],
      "metadata": {
        "colab": {
          "base_uri": "https://localhost:8080/"
        },
        "id": "LU8rikMtGUMr",
        "outputId": "b76493ed-2933-4f0d-b49d-b77cecca88cf"
      },
      "execution_count": 29,
      "outputs": [
        {
          "output_type": "stream",
          "name": "stdout",
          "text": [
            "+-------------------+--------------+---------------+---------+------------------------------------------+--------+-----------+----------------------+--------+\n",
            "|OrderId            |OrderItemId   |QuantityOrdered|ItemPrice|PromotionDiscount                         |batch_id|total_sales|PromotionDiscountValue|net_sale|\n",
            "+-------------------+--------------+---------------+---------+------------------------------------------+--------+-----------+----------------------+--------+\n",
            "|171-0001135-1657958|11168926687715|1              |949.0    |{ \"CurrencyCode\": \"INR\", \"Amount\": \"10\"}  |359     |949.0      |10.0                  |939.0   |\n",
            "|171-0002127-1363507|5949764099083 |1              |399.0    |{ \"CurrencyCode\": \"INR\", \"Amount\": \"10\"}  |297     |399.0      |10.0                  |389.0   |\n",
            "|171-0004781-3853173|43686103544491|1              |399.0    |{ \"CurrencyCode\": \"INR\", \"Amount\": \"10.1\"}|809     |399.0      |10.1                  |388.9   |\n",
            "|171-0004947-4305927|15941372058555|1              |1399.0   |{ \"CurrencyCode\": \"INR\", \"Amount\": \"10\"}  |15      |1399.0     |10.0                  |1389.0  |\n",
            "|171-0006030-2254725|31456208605443|1              |499.0    |{ \"CurrencyCode\": \"INR\", \"Amount\": \"10.1\"}|1494    |499.0      |10.1                  |488.9   |\n",
            "|171-0006682-9937168|2915892310475 |1              |549.0    |{ \"CurrencyCode\": \"INR\", \"Amount\": \"10\"}  |255     |549.0      |10.0                  |539.0   |\n",
            "|171-0008037-3788355|22456900251507|1              |499.0    |{ \"CurrencyCode\": \"INR\", \"Amount\": \"10.1\"}|232     |499.0      |10.1                  |488.9   |\n",
            "|171-0008659-1412343|45841722968955|1              |2899.0   |{ \"CurrencyCode\": \"INR\", \"Amount\": \"10\"}  |184     |2899.0     |10.0                  |2889.0  |\n",
            "|171-0008662-0057942|66326653881907|1              |599.0    |{ \"CurrencyCode\": \"INR\", \"Amount\": \"10.1\"}|122     |599.0      |10.1                  |588.9   |\n",
            "|171-0010803-5365973|21135179938611|1              |299.0    |{ \"CurrencyCode\": \"INR\", \"Amount\": \"10.1\"}|669     |299.0      |10.1                  |288.9   |\n",
            "|171-0015668-5065935|8918074736283 |1              |699.0    |{ \"CurrencyCode\": \"INR\", \"Amount\": \"10\"}  |709     |699.0      |10.0                  |689.0   |\n",
            "|171-0016430-9547521|3526651130627 |1              |499.0    |{ \"CurrencyCode\": \"INR\", \"Amount\": \"10.1\"}|325     |499.0      |10.1                  |488.9   |\n",
            "|171-0017311-5318712|64258514309019|1              |699.0    |{ \"CurrencyCode\": \"INR\", \"Amount\": \"10\"}  |577     |699.0      |10.0                  |689.0   |\n",
            "|171-0018345-8874731|59365948515931|1              |599.0    |{ \"CurrencyCode\": \"INR\", \"Amount\": \"10\"}  |150     |599.0      |10.0                  |589.0   |\n",
            "|171-0020871-3057976|31639315030563|1              |1139.0   |{ \"CurrencyCode\": \"INR\", \"Amount\": \"10.1\"}|296     |1139.0     |10.1                  |1128.9  |\n",
            "|171-0021483-3525174|64370725651027|1              |1599.0   |{ \"CurrencyCode\": \"INR\", \"Amount\": \"10\"}  |911     |1599.0     |10.0                  |1589.0  |\n",
            "|171-0022424-6354758|25431618871923|1              |949.0    |{ \"CurrencyCode\": \"INR\", \"Amount\": \"10.1\"}|874     |949.0      |10.1                  |938.9   |\n",
            "|171-0022807-7934716|5924271021683 |1              |999.0    |{ \"CurrencyCode\": \"INR\", \"Amount\": \"10.1\"}|1329    |999.0      |10.1                  |988.9   |\n",
            "|171-0023912-2838777|12927344177755|1              |499.0    |{ \"CurrencyCode\": \"INR\", \"Amount\": \"10.1\"}|910     |499.0      |10.1                  |488.9   |\n",
            "|171-0024838-4383551|28167659511651|1              |629.0    |{ \"CurrencyCode\": \"INR\", \"Amount\": \"10\"}  |560     |629.0      |10.0                  |619.0   |\n",
            "+-------------------+--------------+---------------+---------+------------------------------------------+--------+-----------+----------------------+--------+\n",
            "only showing top 20 rows\n",
            "\n"
          ]
        },
        {
          "output_type": "execute_result",
          "data": {
            "text/plain": [
              "41107"
            ]
          },
          "metadata": {},
          "execution_count": 29
        }
      ]
    },
    {
      "cell_type": "code",
      "source": [
        "# 6. Exclude orders where the total sales amount is negative or zero after applying discounts.\n",
        "\n",
        "df = df.filter(col(\"net_sale\") > 0)\n",
        "df.show()"
      ],
      "metadata": {
        "colab": {
          "base_uri": "https://localhost:8080/"
        },
        "id": "KOzKzxuOIQ2-",
        "outputId": "403938ab-2a1e-4de5-ed3f-d96e26840cfe"
      },
      "execution_count": 32,
      "outputs": [
        {
          "output_type": "stream",
          "name": "stdout",
          "text": [
            "+-------------------+--------------+---------------+---------+--------------------+--------+-----------+----------------------+--------+\n",
            "|            OrderId|   OrderItemId|QuantityOrdered|ItemPrice|   PromotionDiscount|batch_id|total_sales|PromotionDiscountValue|net_sale|\n",
            "+-------------------+--------------+---------------+---------+--------------------+--------+-----------+----------------------+--------+\n",
            "|171-0001135-1657958|11168926687715|              1|    949.0|{ \"CurrencyCode\":...|     359|      949.0|                  10.0|   939.0|\n",
            "|171-0002127-1363507| 5949764099083|              1|    399.0|{ \"CurrencyCode\":...|     297|      399.0|                  10.0|   389.0|\n",
            "|171-0004781-3853173|43686103544491|              1|    399.0|{ \"CurrencyCode\":...|     809|      399.0|                  10.1|   388.9|\n",
            "|171-0004947-4305927|15941372058555|              1|   1399.0|{ \"CurrencyCode\":...|      15|     1399.0|                  10.0|  1389.0|\n",
            "|171-0006030-2254725|31456208605443|              1|    499.0|{ \"CurrencyCode\":...|    1494|      499.0|                  10.1|   488.9|\n",
            "|171-0006682-9937168| 2915892310475|              1|    549.0|{ \"CurrencyCode\":...|     255|      549.0|                  10.0|   539.0|\n",
            "|171-0008037-3788355|22456900251507|              1|    499.0|{ \"CurrencyCode\":...|     232|      499.0|                  10.1|   488.9|\n",
            "|171-0008659-1412343|45841722968955|              1|   2899.0|{ \"CurrencyCode\":...|     184|     2899.0|                  10.0|  2889.0|\n",
            "|171-0008662-0057942|66326653881907|              1|    599.0|{ \"CurrencyCode\":...|     122|      599.0|                  10.1|   588.9|\n",
            "|171-0010803-5365973|21135179938611|              1|    299.0|{ \"CurrencyCode\":...|     669|      299.0|                  10.1|   288.9|\n",
            "|171-0015668-5065935| 8918074736283|              1|    699.0|{ \"CurrencyCode\":...|     709|      699.0|                  10.0|   689.0|\n",
            "|171-0016430-9547521| 3526651130627|              1|    499.0|{ \"CurrencyCode\":...|     325|      499.0|                  10.1|   488.9|\n",
            "|171-0017311-5318712|64258514309019|              1|    699.0|{ \"CurrencyCode\":...|     577|      699.0|                  10.0|   689.0|\n",
            "|171-0018345-8874731|59365948515931|              1|    599.0|{ \"CurrencyCode\":...|     150|      599.0|                  10.0|   589.0|\n",
            "|171-0020871-3057976|31639315030563|              1|   1139.0|{ \"CurrencyCode\":...|     296|     1139.0|                  10.1|  1128.9|\n",
            "|171-0021483-3525174|64370725651027|              1|   1599.0|{ \"CurrencyCode\":...|     911|     1599.0|                  10.0|  1589.0|\n",
            "|171-0022424-6354758|25431618871923|              1|    949.0|{ \"CurrencyCode\":...|     874|      949.0|                  10.1|   938.9|\n",
            "|171-0022807-7934716| 5924271021683|              1|    999.0|{ \"CurrencyCode\":...|    1329|      999.0|                  10.1|   988.9|\n",
            "|171-0023912-2838777|12927344177755|              1|    499.0|{ \"CurrencyCode\":...|     910|      499.0|                  10.1|   488.9|\n",
            "|171-0024838-4383551|28167659511651|              1|    629.0|{ \"CurrencyCode\":...|     560|      629.0|                  10.0|   619.0|\n",
            "+-------------------+--------------+---------------+---------+--------------------+--------+-----------+----------------------+--------+\n",
            "only showing top 20 rows\n",
            "\n"
          ]
        }
      ]
    },
    {
      "cell_type": "code",
      "source": [
        "# 7. Load the transformed data into a the database of your choice.\n",
        "import sqlite3\n",
        "conn = sqlite3.connect(\"orders.db\")"
      ],
      "metadata": {
        "id": "GK4EPryxIxgE"
      },
      "execution_count": 34,
      "outputs": []
    },
    {
      "cell_type": "code",
      "source": [
        "pdf = df.toPandas()\n",
        "pdf.to_sql(\"orders\", conn, if_exists=\"replace\", index=False)\n",
        "conn.close()"
      ],
      "metadata": {
        "id": "tEktO8cWJUkn"
      },
      "execution_count": 36,
      "outputs": []
    },
    {
      "cell_type": "code",
      "source": [],
      "metadata": {
        "id": "dbS33d8kJqBl"
      },
      "execution_count": null,
      "outputs": []
    }
  ]
}